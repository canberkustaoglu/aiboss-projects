{
 "cells": [
  {
   "cell_type": "code",
   "execution_count": 1,
   "id": "2d928c32",
   "metadata": {},
   "outputs": [],
   "source": [
    "import pandas as pd\n",
    "import numpy as np\n",
    "import matplotlib.pyplot as plt\n",
    "import pickle\n",
    "import seaborn as sns\n",
    "from sklearn.preprocessing import MinMaxScaler\n",
    "import statsmodels.api as sm\n",
    "from sklearn.metrics import mean_squared_error\n",
    "from sklearn.metrics import r2_score\n",
    "from sklearn.linear_model import LinearRegression\n",
    "from sklearn.model_selection import train_test_split\n",
    "from sklearn.metrics import accuracy_score\n",
    "from sklearn.model_selection import train_test_split\n",
    "from sklearn.linear_model import LinearRegression\n",
    "from sklearn import metrics\n",
    "from sklearn.preprocessing import PolynomialFeatures"
   ]
  },
  {
   "cell_type": "code",
   "execution_count": 2,
   "id": "d7d44c38",
   "metadata": {},
   "outputs": [],
   "source": [
    "veriler = pd.read_csv('maaslar.csv')"
   ]
  },
  {
   "cell_type": "markdown",
   "id": "86d8ee13",
   "metadata": {},
   "source": [
    "## veriler csv dosyasını pickle'a çevirip inceleyeceğim. neden? daha hızlı ve daha managable "
   ]
  },
  {
   "cell_type": "code",
   "execution_count": 3,
   "id": "0858edf7",
   "metadata": {},
   "outputs": [],
   "source": [
    "veriler.to_pickle('maaslar.pkl')"
   ]
  },
  {
   "cell_type": "code",
   "execution_count": 4,
   "id": "7efc0df6",
   "metadata": {},
   "outputs": [],
   "source": [
    "data = pd.read_pickle('maaslar.pkl')"
   ]
  },
  {
   "cell_type": "code",
   "execution_count": 5,
   "id": "7254d7ee",
   "metadata": {},
   "outputs": [
    {
     "data": {
      "text/html": [
       "<div>\n",
       "<style scoped>\n",
       "    .dataframe tbody tr th:only-of-type {\n",
       "        vertical-align: middle;\n",
       "    }\n",
       "\n",
       "    .dataframe tbody tr th {\n",
       "        vertical-align: top;\n",
       "    }\n",
       "\n",
       "    .dataframe thead th {\n",
       "        text-align: right;\n",
       "    }\n",
       "</style>\n",
       "<table border=\"1\" class=\"dataframe\">\n",
       "  <thead>\n",
       "    <tr style=\"text-align: right;\">\n",
       "      <th></th>\n",
       "      <th>unvan</th>\n",
       "      <th>Egitim Seviyesi</th>\n",
       "      <th>maas</th>\n",
       "    </tr>\n",
       "  </thead>\n",
       "  <tbody>\n",
       "    <tr>\n",
       "      <th>0</th>\n",
       "      <td>Cayci</td>\n",
       "      <td>1</td>\n",
       "      <td>2250</td>\n",
       "    </tr>\n",
       "    <tr>\n",
       "      <th>1</th>\n",
       "      <td>Sekreter</td>\n",
       "      <td>2</td>\n",
       "      <td>2500</td>\n",
       "    </tr>\n",
       "    <tr>\n",
       "      <th>2</th>\n",
       "      <td>Uzman Yardimcisi</td>\n",
       "      <td>3</td>\n",
       "      <td>3000</td>\n",
       "    </tr>\n",
       "    <tr>\n",
       "      <th>3</th>\n",
       "      <td>Uzman</td>\n",
       "      <td>4</td>\n",
       "      <td>4000</td>\n",
       "    </tr>\n",
       "    <tr>\n",
       "      <th>4</th>\n",
       "      <td>Proje Yoneticisi</td>\n",
       "      <td>5</td>\n",
       "      <td>5500</td>\n",
       "    </tr>\n",
       "    <tr>\n",
       "      <th>5</th>\n",
       "      <td>Sef</td>\n",
       "      <td>6</td>\n",
       "      <td>7500</td>\n",
       "    </tr>\n",
       "    <tr>\n",
       "      <th>6</th>\n",
       "      <td>Mudur</td>\n",
       "      <td>7</td>\n",
       "      <td>10000</td>\n",
       "    </tr>\n",
       "    <tr>\n",
       "      <th>7</th>\n",
       "      <td>Direktor</td>\n",
       "      <td>8</td>\n",
       "      <td>15000</td>\n",
       "    </tr>\n",
       "    <tr>\n",
       "      <th>8</th>\n",
       "      <td>C-level</td>\n",
       "      <td>9</td>\n",
       "      <td>25000</td>\n",
       "    </tr>\n",
       "    <tr>\n",
       "      <th>9</th>\n",
       "      <td>CEO</td>\n",
       "      <td>10</td>\n",
       "      <td>50000</td>\n",
       "    </tr>\n",
       "  </tbody>\n",
       "</table>\n",
       "</div>"
      ],
      "text/plain": [
       "              unvan  Egitim Seviyesi   maas\n",
       "0             Cayci                1   2250\n",
       "1          Sekreter                2   2500\n",
       "2  Uzman Yardimcisi                3   3000\n",
       "3             Uzman                4   4000\n",
       "4  Proje Yoneticisi                5   5500\n",
       "5               Sef                6   7500\n",
       "6             Mudur                7  10000\n",
       "7          Direktor                8  15000\n",
       "8           C-level                9  25000\n",
       "9               CEO               10  50000"
      ]
     },
     "execution_count": 5,
     "metadata": {},
     "output_type": "execute_result"
    }
   ],
   "source": [
    "data"
   ]
  },
  {
   "cell_type": "code",
   "execution_count": 6,
   "id": "78abf52e",
   "metadata": {},
   "outputs": [
    {
     "data": {
      "text/html": [
       "<div>\n",
       "<style scoped>\n",
       "    .dataframe tbody tr th:only-of-type {\n",
       "        vertical-align: middle;\n",
       "    }\n",
       "\n",
       "    .dataframe tbody tr th {\n",
       "        vertical-align: top;\n",
       "    }\n",
       "\n",
       "    .dataframe thead th {\n",
       "        text-align: right;\n",
       "    }\n",
       "</style>\n",
       "<table border=\"1\" class=\"dataframe\">\n",
       "  <thead>\n",
       "    <tr style=\"text-align: right;\">\n",
       "      <th></th>\n",
       "      <th>count</th>\n",
       "      <th>mean</th>\n",
       "      <th>std</th>\n",
       "      <th>min</th>\n",
       "      <th>25%</th>\n",
       "      <th>50%</th>\n",
       "      <th>75%</th>\n",
       "      <th>max</th>\n",
       "    </tr>\n",
       "  </thead>\n",
       "  <tbody>\n",
       "    <tr>\n",
       "      <th>Egitim Seviyesi</th>\n",
       "      <td>10.0</td>\n",
       "      <td>5.5</td>\n",
       "      <td>3.027650</td>\n",
       "      <td>1.0</td>\n",
       "      <td>3.25</td>\n",
       "      <td>5.5</td>\n",
       "      <td>7.75</td>\n",
       "      <td>10.0</td>\n",
       "    </tr>\n",
       "    <tr>\n",
       "      <th>maas</th>\n",
       "      <td>10.0</td>\n",
       "      <td>12475.0</td>\n",
       "      <td>14968.694183</td>\n",
       "      <td>2250.0</td>\n",
       "      <td>3250.00</td>\n",
       "      <td>6500.0</td>\n",
       "      <td>13750.00</td>\n",
       "      <td>50000.0</td>\n",
       "    </tr>\n",
       "  </tbody>\n",
       "</table>\n",
       "</div>"
      ],
      "text/plain": [
       "                 count     mean           std     min      25%     50%  \\\n",
       "Egitim Seviyesi   10.0      5.5      3.027650     1.0     3.25     5.5   \n",
       "maas              10.0  12475.0  14968.694183  2250.0  3250.00  6500.0   \n",
       "\n",
       "                      75%      max  \n",
       "Egitim Seviyesi      7.75     10.0  \n",
       "maas             13750.00  50000.0  "
      ]
     },
     "execution_count": 6,
     "metadata": {},
     "output_type": "execute_result"
    }
   ],
   "source": [
    "data.describe().T"
   ]
  },
  {
   "attachments": {
    "image.png": {
     "image/png": "[encoded data removed]"
    }
   },
   "cell_type": "markdown",
   "id": "8be9d84e",
   "metadata": {},
   "source": [
    "![image.png](attachment:image.png)"
   ]
  },
  {
   "cell_type": "markdown",
   "id": "6581b59c",
   "metadata": {},
   "source": [
    "#### gerçekçi olmak gerekirse bu modelde unvan column'u hiç umrumuzda değil. Unvan seviyesi sadece eğitim seviyesi ile alakalı\n",
    "\n",
    "## null data kontrolü gerçekleştirelim"
   ]
  },
  {
   "cell_type": "code",
   "execution_count": 7,
   "id": "7611cc63",
   "metadata": {},
   "outputs": [
    {
     "data": {
      "text/plain": [
       "Index([], dtype='object')"
      ]
     },
     "execution_count": 7,
     "metadata": {},
     "output_type": "execute_result"
    }
   ],
   "source": [
    "data.columns[data.isnull().any()] "
   ]
  },
  {
   "cell_type": "code",
   "execution_count": 8,
   "id": "1e86ef4e",
   "metadata": {},
   "outputs": [
    {
     "data": {
      "text/plain": [
       "unvan              0\n",
       "Egitim Seviyesi    0\n",
       "maas               0\n",
       "dtype: int64"
      ]
     },
     "execution_count": 8,
     "metadata": {},
     "output_type": "execute_result"
    }
   ],
   "source": [
    "data.isnull().sum()# yokmuş"
   ]
  },
  {
   "cell_type": "markdown",
   "id": "1430aabb",
   "metadata": {},
   "source": [
    "## error düşürmek için modele normalizasyon uygulayarak poly reg. işlemi gerçekleştireceğim"
   ]
  },
  {
   "cell_type": "code",
   "execution_count": 9,
   "id": "972848ee",
   "metadata": {},
   "outputs": [
    {
     "name": "stdout",
     "output_type": "stream",
     "text": [
      "['unvan']\n"
     ]
    }
   ],
   "source": [
    "categorical_columns = data.select_dtypes(include = 'object').columns.to_list()\n",
    "print(categorical_columns)"
   ]
  },
  {
   "cell_type": "code",
   "execution_count": 10,
   "id": "4a56f015",
   "metadata": {},
   "outputs": [
    {
     "name": "stdout",
     "output_type": "stream",
     "text": [
      "['Egitim Seviyesi', 'maas']\n"
     ]
    }
   ],
   "source": [
    "categorical = categorical_columns\n",
    "\n",
    "columns_to_normalize = [col for col in data.columns if col not in categorical]\n",
    "print(columns_to_normalize)"
   ]
  },
  {
   "cell_type": "markdown",
   "id": "f5592137",
   "metadata": {},
   "source": [
    "### normalize edeceğimiz iki column var. çok basit biçimde bir polynomial regression kurabiliriz"
   ]
  },
  {
   "cell_type": "code",
   "execution_count": 11,
   "id": "0af61149",
   "metadata": {},
   "outputs": [
    {
     "name": "stderr",
     "output_type": "stream",
     "text": [
      "C:\\Users\\Asus\\anaconda3\\envs\\notebook\\lib\\site-packages\\sklearn\\base.py:464: UserWarning: X does not have valid feature names, but MinMaxScaler was fitted with feature names\n",
      "  warnings.warn(\n",
      "C:\\Users\\Asus\\AppData\\Local\\Temp\\ipykernel_10232\\689206453.py:13: SettingWithCopyWarning: \n",
      "A value is trying to be set on a copy of a slice from a DataFrame.\n",
      "Try using .loc[row_indexer,col_indexer] = value instead\n",
      "\n",
      "See the caveats in the documentation: https://pandas.pydata.org/pandas-docs/stable/user_guide/indexing.html#returning-a-view-versus-a-copy\n",
      "  df_continuous[column_name] = scaler.transform(df_continuous[[column_name]].values.reshape(-1, 1))\n",
      "C:\\Users\\Asus\\anaconda3\\envs\\notebook\\lib\\site-packages\\sklearn\\base.py:464: UserWarning: X does not have valid feature names, but MinMaxScaler was fitted with feature names\n",
      "  warnings.warn(\n",
      "C:\\Users\\Asus\\AppData\\Local\\Temp\\ipykernel_10232\\689206453.py:13: SettingWithCopyWarning: \n",
      "A value is trying to be set on a copy of a slice from a DataFrame.\n",
      "Try using .loc[row_indexer,col_indexer] = value instead\n",
      "\n",
      "See the caveats in the documentation: https://pandas.pydata.org/pandas-docs/stable/user_guide/indexing.html#returning-a-view-versus-a-copy\n",
      "  df_continuous[column_name] = scaler.transform(df_continuous[[column_name]].values.reshape(-1, 1))\n"
     ]
    }
   ],
   "source": [
    "from sklearn.preprocessing import MinMaxScaler\n",
    "\n",
    "df_continuous = data[columns_to_normalize]\n",
    "min_max_columns_names = list(df_continuous.columns)\n",
    "all_scalers = {}\n",
    "\n",
    "for column_name in min_max_columns_names:\n",
    "    scaler = MinMaxScaler()\n",
    "    scaler.fit(df_continuous[[column_name]])\n",
    "    all_scalers[column_name] = scaler\n",
    "    \n",
    "for column_name, scaler in all_scalers.items():\n",
    "    df_continuous[column_name] = scaler.transform(df_continuous[[column_name]].values.reshape(-1, 1))\n"
   ]
  },
  {
   "cell_type": "code",
   "execution_count": 12,
   "id": "b3b2ec12",
   "metadata": {},
   "outputs": [
    {
     "data": {
      "text/html": [
       "<div>\n",
       "<style scoped>\n",
       "    .dataframe tbody tr th:only-of-type {\n",
       "        vertical-align: middle;\n",
       "    }\n",
       "\n",
       "    .dataframe tbody tr th {\n",
       "        vertical-align: top;\n",
       "    }\n",
       "\n",
       "    .dataframe thead th {\n",
       "        text-align: right;\n",
       "    }\n",
       "</style>\n",
       "<table border=\"1\" class=\"dataframe\">\n",
       "  <thead>\n",
       "    <tr style=\"text-align: right;\">\n",
       "      <th></th>\n",
       "      <th>unvan</th>\n",
       "      <th>Egitim Seviyesi</th>\n",
       "      <th>maas</th>\n",
       "    </tr>\n",
       "  </thead>\n",
       "  <tbody>\n",
       "    <tr>\n",
       "      <th>0</th>\n",
       "      <td>Cayci</td>\n",
       "      <td>0.000000</td>\n",
       "      <td>0.000000</td>\n",
       "    </tr>\n",
       "    <tr>\n",
       "      <th>1</th>\n",
       "      <td>Sekreter</td>\n",
       "      <td>0.111111</td>\n",
       "      <td>0.005236</td>\n",
       "    </tr>\n",
       "    <tr>\n",
       "      <th>2</th>\n",
       "      <td>Uzman Yardimcisi</td>\n",
       "      <td>0.222222</td>\n",
       "      <td>0.015707</td>\n",
       "    </tr>\n",
       "    <tr>\n",
       "      <th>3</th>\n",
       "      <td>Uzman</td>\n",
       "      <td>0.333333</td>\n",
       "      <td>0.036649</td>\n",
       "    </tr>\n",
       "    <tr>\n",
       "      <th>4</th>\n",
       "      <td>Proje Yoneticisi</td>\n",
       "      <td>0.444444</td>\n",
       "      <td>0.068063</td>\n",
       "    </tr>\n",
       "    <tr>\n",
       "      <th>5</th>\n",
       "      <td>Sef</td>\n",
       "      <td>0.555556</td>\n",
       "      <td>0.109948</td>\n",
       "    </tr>\n",
       "    <tr>\n",
       "      <th>6</th>\n",
       "      <td>Mudur</td>\n",
       "      <td>0.666667</td>\n",
       "      <td>0.162304</td>\n",
       "    </tr>\n",
       "    <tr>\n",
       "      <th>7</th>\n",
       "      <td>Direktor</td>\n",
       "      <td>0.777778</td>\n",
       "      <td>0.267016</td>\n",
       "    </tr>\n",
       "    <tr>\n",
       "      <th>8</th>\n",
       "      <td>C-level</td>\n",
       "      <td>0.888889</td>\n",
       "      <td>0.476440</td>\n",
       "    </tr>\n",
       "    <tr>\n",
       "      <th>9</th>\n",
       "      <td>CEO</td>\n",
       "      <td>1.000000</td>\n",
       "      <td>1.000000</td>\n",
       "    </tr>\n",
       "  </tbody>\n",
       "</table>\n",
       "</div>"
      ],
      "text/plain": [
       "              unvan  Egitim Seviyesi      maas\n",
       "0             Cayci         0.000000  0.000000\n",
       "1          Sekreter         0.111111  0.005236\n",
       "2  Uzman Yardimcisi         0.222222  0.015707\n",
       "3             Uzman         0.333333  0.036649\n",
       "4  Proje Yoneticisi         0.444444  0.068063\n",
       "5               Sef         0.555556  0.109948\n",
       "6             Mudur         0.666667  0.162304\n",
       "7          Direktor         0.777778  0.267016\n",
       "8           C-level         0.888889  0.476440\n",
       "9               CEO         1.000000  1.000000"
      ]
     },
     "execution_count": 12,
     "metadata": {},
     "output_type": "execute_result"
    }
   ],
   "source": [
    "normalized_data = pd.concat([df_continuous,data[categorical]], axis= 1)\n",
    "\n",
    "normalized_data = normalized_data.reindex(data.columns, axis = 1)\n",
    "normalized_data"
   ]
  },
  {
   "cell_type": "markdown",
   "id": "8ebfde70",
   "metadata": {},
   "source": [
    "### veride unvan columnu umrumuzda değil atıyorum"
   ]
  },
  {
   "cell_type": "code",
   "execution_count": 13,
   "id": "a3f919bc",
   "metadata": {},
   "outputs": [
    {
     "data": {
      "text/html": [
       "<div>\n",
       "<style scoped>\n",
       "    .dataframe tbody tr th:only-of-type {\n",
       "        vertical-align: middle;\n",
       "    }\n",
       "\n",
       "    .dataframe tbody tr th {\n",
       "        vertical-align: top;\n",
       "    }\n",
       "\n",
       "    .dataframe thead th {\n",
       "        text-align: right;\n",
       "    }\n",
       "</style>\n",
       "<table border=\"1\" class=\"dataframe\">\n",
       "  <thead>\n",
       "    <tr style=\"text-align: right;\">\n",
       "      <th></th>\n",
       "      <th>Egitim Seviyesi</th>\n",
       "      <th>maas</th>\n",
       "    </tr>\n",
       "  </thead>\n",
       "  <tbody>\n",
       "    <tr>\n",
       "      <th>0</th>\n",
       "      <td>0.000000</td>\n",
       "      <td>0.000000</td>\n",
       "    </tr>\n",
       "    <tr>\n",
       "      <th>1</th>\n",
       "      <td>0.111111</td>\n",
       "      <td>0.005236</td>\n",
       "    </tr>\n",
       "    <tr>\n",
       "      <th>2</th>\n",
       "      <td>0.222222</td>\n",
       "      <td>0.015707</td>\n",
       "    </tr>\n",
       "    <tr>\n",
       "      <th>3</th>\n",
       "      <td>0.333333</td>\n",
       "      <td>0.036649</td>\n",
       "    </tr>\n",
       "    <tr>\n",
       "      <th>4</th>\n",
       "      <td>0.444444</td>\n",
       "      <td>0.068063</td>\n",
       "    </tr>\n",
       "    <tr>\n",
       "      <th>5</th>\n",
       "      <td>0.555556</td>\n",
       "      <td>0.109948</td>\n",
       "    </tr>\n",
       "    <tr>\n",
       "      <th>6</th>\n",
       "      <td>0.666667</td>\n",
       "      <td>0.162304</td>\n",
       "    </tr>\n",
       "    <tr>\n",
       "      <th>7</th>\n",
       "      <td>0.777778</td>\n",
       "      <td>0.267016</td>\n",
       "    </tr>\n",
       "    <tr>\n",
       "      <th>8</th>\n",
       "      <td>0.888889</td>\n",
       "      <td>0.476440</td>\n",
       "    </tr>\n",
       "    <tr>\n",
       "      <th>9</th>\n",
       "      <td>1.000000</td>\n",
       "      <td>1.000000</td>\n",
       "    </tr>\n",
       "  </tbody>\n",
       "</table>\n",
       "</div>"
      ],
      "text/plain": [
       "   Egitim Seviyesi      maas\n",
       "0         0.000000  0.000000\n",
       "1         0.111111  0.005236\n",
       "2         0.222222  0.015707\n",
       "3         0.333333  0.036649\n",
       "4         0.444444  0.068063\n",
       "5         0.555556  0.109948\n",
       "6         0.666667  0.162304\n",
       "7         0.777778  0.267016\n",
       "8         0.888889  0.476440\n",
       "9         1.000000  1.000000"
      ]
     },
     "execution_count": 13,
     "metadata": {},
     "output_type": "execute_result"
    }
   ],
   "source": [
    "normalized_data = normalized_data.iloc[:, 1:]\n",
    "normalized_data"
   ]
  },
  {
   "cell_type": "markdown",
   "id": "34f2e30f",
   "metadata": {},
   "source": [
    "### Polynomial Regression modelimizi inşa edelim"
   ]
  },
  {
   "cell_type": "code",
   "execution_count": 14,
   "id": "c034de7d",
   "metadata": {},
   "outputs": [
    {
     "data": {
      "text/plain": [
       "array([[0.        ],\n",
       "       [0.11111111],\n",
       "       [0.22222222],\n",
       "       [0.33333333],\n",
       "       [0.44444444],\n",
       "       [0.55555556],\n",
       "       [0.66666667],\n",
       "       [0.77777778],\n",
       "       [0.88888889],\n",
       "       [1.        ]])"
      ]
     },
     "execution_count": 14,
     "metadata": {},
     "output_type": "execute_result"
    }
   ],
   "source": [
    "x = normalized_data.iloc[:, 0].values.reshape(-1, 1)\n",
    "x"
   ]
  },
  {
   "cell_type": "code",
   "execution_count": 15,
   "id": "44c2be28",
   "metadata": {},
   "outputs": [
    {
     "data": {
      "text/plain": [
       "array([[0.        ],\n",
       "       [0.0052356 ],\n",
       "       [0.01570681],\n",
       "       [0.03664921],\n",
       "       [0.06806283],\n",
       "       [0.10994764],\n",
       "       [0.16230366],\n",
       "       [0.26701571],\n",
       "       [0.47643979],\n",
       "       [1.        ]])"
      ]
     },
     "execution_count": 15,
     "metadata": {},
     "output_type": "execute_result"
    }
   ],
   "source": [
    "y = normalized_data.iloc[:,1:].values.reshape(-1, 1)\n",
    "y"
   ]
  },
  {
   "cell_type": "code",
   "execution_count": null,
   "id": "b71be4e8",
   "metadata": {},
   "outputs": [],
   "source": []
  },
  {
   "cell_type": "markdown",
   "id": "dccf5d0d",
   "metadata": {},
   "source": [
    "###  x eğitim seviyesi, y maaş oldu. Önce linear regression sonra poly reg modelini kuralım"
   ]
  },
  {
   "cell_type": "code",
   "execution_count": 16,
   "id": "5f3b508a",
   "metadata": {},
   "outputs": [
    {
     "data": {
      "text/html": [
       "<style>#sk-container-id-1 {color: black;}#sk-container-id-1 pre{padding: 0;}#sk-container-id-1 div.sk-toggleable {background-color: white;}#sk-container-id-1 label.sk-toggleable__label {cursor: pointer;display: block;width: 100%;margin-bottom: 0;padding: 0.3em;box-sizing: border-box;text-align: center;}#sk-container-id-1 label.sk-toggleable__label-arrow:before {content: \"▸\";float: left;margin-right: 0.25em;color: #696969;}#sk-container-id-1 label.sk-toggleable__label-arrow:hover:before {color: black;}#sk-container-id-1 div.sk-estimator:hover label.sk-toggleable__label-arrow:before {color: black;}#sk-container-id-1 div.sk-toggleable__content {max-height: 0;max-width: 0;overflow: hidden;text-align: left;background-color: #f0f8ff;}#sk-container-id-1 div.sk-toggleable__content pre {margin: 0.2em;color: black;border-radius: 0.25em;background-color: #f0f8ff;}#sk-container-id-1 input.sk-toggleable__control:checked~div.sk-toggleable__content {max-height: 200px;max-width: 100%;overflow: auto;}#sk-container-id-1 input.sk-toggleable__control:checked~label.sk-toggleable__label-arrow:before {content: \"▾\";}#sk-container-id-1 div.sk-estimator input.sk-toggleable__control:checked~label.sk-toggleable__label {background-color: #d4ebff;}#sk-container-id-1 div.sk-label input.sk-toggleable__control:checked~label.sk-toggleable__label {background-color: #d4ebff;}#sk-container-id-1 input.sk-hidden--visually {border: 0;clip: rect(1px 1px 1px 1px);clip: rect(1px, 1px, 1px, 1px);height: 1px;margin: -1px;overflow: hidden;padding: 0;position: absolute;width: 1px;}#sk-container-id-1 div.sk-estimator {font-family: monospace;background-color: #f0f8ff;border: 1px dotted black;border-radius: 0.25em;box-sizing: border-box;margin-bottom: 0.5em;}#sk-container-id-1 div.sk-estimator:hover {background-color: #d4ebff;}#sk-container-id-1 div.sk-parallel-item::after {content: \"\";width: 100%;border-bottom: 1px solid gray;flex-grow: 1;}#sk-container-id-1 div.sk-label:hover label.sk-toggleable__label {background-color: #d4ebff;}#sk-container-id-1 div.sk-serial::before {content: \"\";position: absolute;border-left: 1px solid gray;box-sizing: border-box;top: 0;bottom: 0;left: 50%;z-index: 0;}#sk-container-id-1 div.sk-serial {display: flex;flex-direction: column;align-items: center;background-color: white;padding-right: 0.2em;padding-left: 0.2em;position: relative;}#sk-container-id-1 div.sk-item {position: relative;z-index: 1;}#sk-container-id-1 div.sk-parallel {display: flex;align-items: stretch;justify-content: center;background-color: white;position: relative;}#sk-container-id-1 div.sk-item::before, #sk-container-id-1 div.sk-parallel-item::before {content: \"\";position: absolute;border-left: 1px solid gray;box-sizing: border-box;top: 0;bottom: 0;left: 50%;z-index: -1;}#sk-container-id-1 div.sk-parallel-item {display: flex;flex-direction: column;z-index: 1;position: relative;background-color: white;}#sk-container-id-1 div.sk-parallel-item:first-child::after {align-self: flex-end;width: 50%;}#sk-container-id-1 div.sk-parallel-item:last-child::after {align-self: flex-start;width: 50%;}#sk-container-id-1 div.sk-parallel-item:only-child::after {width: 0;}#sk-container-id-1 div.sk-dashed-wrapped {border: 1px dashed gray;margin: 0 0.4em 0.5em 0.4em;box-sizing: border-box;padding-bottom: 0.4em;background-color: white;}#sk-container-id-1 div.sk-label label {font-family: monospace;font-weight: bold;display: inline-block;line-height: 1.2em;}#sk-container-id-1 div.sk-label-container {text-align: center;}#sk-container-id-1 div.sk-container {/* jupyter's `normalize.less` sets `[hidden] { display: none; }` but bootstrap.min.css set `[hidden] { display: none !important; }` so we also need the `!important` here to be able to override the default hidden behavior on the sphinx rendered scikit-learn.org. See: https://github.com/scikit-learn/scikit-learn/issues/21755 */display: inline-block !important;position: relative;}#sk-container-id-1 div.sk-text-repr-fallback {display: none;}</style><div id=\"sk-container-id-1\" class=\"sk-top-container\"><div class=\"sk-text-repr-fallback\"><pre>LinearRegression()</pre><b>In a Jupyter environment, please rerun this cell to show the HTML representation or trust the notebook. <br />On GitHub, the HTML representation is unable to render, please try loading this page with nbviewer.org.</b></div><div class=\"sk-container\" hidden><div class=\"sk-item\"><div class=\"sk-estimator sk-toggleable\"><input class=\"sk-toggleable__control sk-hidden--visually\" id=\"sk-estimator-id-1\" type=\"checkbox\" checked><label for=\"sk-estimator-id-1\" class=\"sk-toggleable__label sk-toggleable__label-arrow\">LinearRegression</label><div class=\"sk-toggleable__content\"><pre>LinearRegression()</pre></div></div></div></div></div>"
      ],
      "text/plain": [
       "LinearRegression()"
      ]
     },
     "execution_count": 16,
     "metadata": {},
     "output_type": "execute_result"
    }
   ],
   "source": [
    "linear_reg = LinearRegression()\n",
    "linear_reg.fit(x,y)"
   ]
  },
  {
   "cell_type": "code",
   "execution_count": 17,
   "id": "6b73506f",
   "metadata": {},
   "outputs": [
    {
     "data": {
      "text/plain": [
       "[<matplotlib.lines.Line2D at 0x1d8de6a7610>]"
      ]
     },
     "execution_count": 17,
     "metadata": {},
     "output_type": "execute_result"
    },
    {
     "data": {
      "image/png": "[encoded data removed]",
      "text/plain": [
       "<Figure size 432x288 with 1 Axes>"
      ]
     },
     "metadata": {
      "needs_background": "light"
     },
     "output_type": "display_data"
    }
   ],
   "source": [
    "plt.scatter(x,y, color ='red')\n",
    "plt.plot(x,linear_reg.predict(x), color = 'blue')"
   ]
  },
  {
   "cell_type": "code",
   "execution_count": null,
   "id": "d3f584e5",
   "metadata": {},
   "outputs": [],
   "source": []
  },
  {
   "cell_type": "code",
   "execution_count": null,
   "id": "3aafbc45",
   "metadata": {},
   "outputs": [],
   "source": []
  },
  {
   "cell_type": "markdown",
   "id": "bf5652bd",
   "metadata": {},
   "source": [
    "### Poly Reg Modeli"
   ]
  },
  {
   "cell_type": "code",
   "execution_count": 18,
   "id": "d1ee1fbb",
   "metadata": {},
   "outputs": [],
   "source": [
    "poly_reg_2 = PolynomialFeatures(degree = 2)\n",
    "poly_reg_3 = PolynomialFeatures(degree = 3)\n",
    "poly_reg_5 = PolynomialFeatures(degree = 5)\n",
    "poly_reg_13 = PolynomialFeatures(degree = 13)"
   ]
  },
  {
   "cell_type": "code",
   "execution_count": 19,
   "id": "9abab77b",
   "metadata": {},
   "outputs": [
    {
     "name": "stdout",
     "output_type": "stream",
     "text": [
      "[[1.         0.         0.        ]\n",
      " [1.         0.11111111 0.01234568]\n",
      " [1.         0.22222222 0.04938272]\n",
      " [1.         0.33333333 0.11111111]\n",
      " [1.         0.44444444 0.19753086]\n",
      " [1.         0.55555556 0.30864198]\n",
      " [1.         0.66666667 0.44444444]\n",
      " [1.         0.77777778 0.60493827]\n",
      " [1.         0.88888889 0.79012346]\n",
      " [1.         1.         1.        ]]\n"
     ]
    }
   ],
   "source": [
    "x_poly_2 = poly_reg_2.fit_transform(x)\n",
    "print(x_poly_2)"
   ]
  },
  {
   "cell_type": "code",
   "execution_count": 20,
   "id": "395af85c",
   "metadata": {},
   "outputs": [
    {
     "data": {
      "text/html": [
       "<style>#sk-container-id-2 {color: black;}#sk-container-id-2 pre{padding: 0;}#sk-container-id-2 div.sk-toggleable {background-color: white;}#sk-container-id-2 label.sk-toggleable__label {cursor: pointer;display: block;width: 100%;margin-bottom: 0;padding: 0.3em;box-sizing: border-box;text-align: center;}#sk-container-id-2 label.sk-toggleable__label-arrow:before {content: \"▸\";float: left;margin-right: 0.25em;color: #696969;}#sk-container-id-2 label.sk-toggleable__label-arrow:hover:before {color: black;}#sk-container-id-2 div.sk-estimator:hover label.sk-toggleable__label-arrow:before {color: black;}#sk-container-id-2 div.sk-toggleable__content {max-height: 0;max-width: 0;overflow: hidden;text-align: left;background-color: #f0f8ff;}#sk-container-id-2 div.sk-toggleable__content pre {margin: 0.2em;color: black;border-radius: 0.25em;background-color: #f0f8ff;}#sk-container-id-2 input.sk-toggleable__control:checked~div.sk-toggleable__content {max-height: 200px;max-width: 100%;overflow: auto;}#sk-container-id-2 input.sk-toggleable__control:checked~label.sk-toggleable__label-arrow:before {content: \"▾\";}#sk-container-id-2 div.sk-estimator input.sk-toggleable__control:checked~label.sk-toggleable__label {background-color: #d4ebff;}#sk-container-id-2 div.sk-label input.sk-toggleable__control:checked~label.sk-toggleable__label {background-color: #d4ebff;}#sk-container-id-2 input.sk-hidden--visually {border: 0;clip: rect(1px 1px 1px 1px);clip: rect(1px, 1px, 1px, 1px);height: 1px;margin: -1px;overflow: hidden;padding: 0;position: absolute;width: 1px;}#sk-container-id-2 div.sk-estimator {font-family: monospace;background-color: #f0f8ff;border: 1px dotted black;border-radius: 0.25em;box-sizing: border-box;margin-bottom: 0.5em;}#sk-container-id-2 div.sk-estimator:hover {background-color: #d4ebff;}#sk-container-id-2 div.sk-parallel-item::after {content: \"\";width: 100%;border-bottom: 1px solid gray;flex-grow: 1;}#sk-container-id-2 div.sk-label:hover label.sk-toggleable__label {background-color: #d4ebff;}#sk-container-id-2 div.sk-serial::before {content: \"\";position: absolute;border-left: 1px solid gray;box-sizing: border-box;top: 0;bottom: 0;left: 50%;z-index: 0;}#sk-container-id-2 div.sk-serial {display: flex;flex-direction: column;align-items: center;background-color: white;padding-right: 0.2em;padding-left: 0.2em;position: relative;}#sk-container-id-2 div.sk-item {position: relative;z-index: 1;}#sk-container-id-2 div.sk-parallel {display: flex;align-items: stretch;justify-content: center;background-color: white;position: relative;}#sk-container-id-2 div.sk-item::before, #sk-container-id-2 div.sk-parallel-item::before {content: \"\";position: absolute;border-left: 1px solid gray;box-sizing: border-box;top: 0;bottom: 0;left: 50%;z-index: -1;}#sk-container-id-2 div.sk-parallel-item {display: flex;flex-direction: column;z-index: 1;position: relative;background-color: white;}#sk-container-id-2 div.sk-parallel-item:first-child::after {align-self: flex-end;width: 50%;}#sk-container-id-2 div.sk-parallel-item:last-child::after {align-self: flex-start;width: 50%;}#sk-container-id-2 div.sk-parallel-item:only-child::after {width: 0;}#sk-container-id-2 div.sk-dashed-wrapped {border: 1px dashed gray;margin: 0 0.4em 0.5em 0.4em;box-sizing: border-box;padding-bottom: 0.4em;background-color: white;}#sk-container-id-2 div.sk-label label {font-family: monospace;font-weight: bold;display: inline-block;line-height: 1.2em;}#sk-container-id-2 div.sk-label-container {text-align: center;}#sk-container-id-2 div.sk-container {/* jupyter's `normalize.less` sets `[hidden] { display: none; }` but bootstrap.min.css set `[hidden] { display: none !important; }` so we also need the `!important` here to be able to override the default hidden behavior on the sphinx rendered scikit-learn.org. See: https://github.com/scikit-learn/scikit-learn/issues/21755 */display: inline-block !important;position: relative;}#sk-container-id-2 div.sk-text-repr-fallback {display: none;}</style><div id=\"sk-container-id-2\" class=\"sk-top-container\"><div class=\"sk-text-repr-fallback\"><pre>LinearRegression()</pre><b>In a Jupyter environment, please rerun this cell to show the HTML representation or trust the notebook. <br />On GitHub, the HTML representation is unable to render, please try loading this page with nbviewer.org.</b></div><div class=\"sk-container\" hidden><div class=\"sk-item\"><div class=\"sk-estimator sk-toggleable\"><input class=\"sk-toggleable__control sk-hidden--visually\" id=\"sk-estimator-id-2\" type=\"checkbox\" checked><label for=\"sk-estimator-id-2\" class=\"sk-toggleable__label sk-toggleable__label-arrow\">LinearRegression</label><div class=\"sk-toggleable__content\"><pre>LinearRegression()</pre></div></div></div></div></div>"
      ],
      "text/plain": [
       "LinearRegression()"
      ]
     },
     "execution_count": 20,
     "metadata": {},
     "output_type": "execute_result"
    }
   ],
   "source": [
    "reg_2 = LinearRegression()\n",
    "reg_2.fit(x_poly_2, y)"
   ]
  },
  {
   "cell_type": "code",
   "execution_count": 21,
   "id": "5bb04e71",
   "metadata": {},
   "outputs": [
    {
     "data": {
      "text/plain": [
       "[<matplotlib.lines.Line2D at 0x1d8e07a3130>]"
      ]
     },
     "execution_count": 21,
     "metadata": {},
     "output_type": "execute_result"
    },
    {
     "data": {
      "image/png": "[encoded data removed]",
      "text/plain": [
       "<Figure size 432x288 with 1 Axes>"
      ]
     },
     "metadata": {
      "needs_background": "light"
     },
     "output_type": "display_data"
    }
   ],
   "source": [
    "plt.scatter(x,y)\n",
    "plt.plot(x,reg_2.predict(poly_reg_2.fit_transform(x)))"
   ]
  },
  {
   "cell_type": "markdown",
   "id": "93ebad02",
   "metadata": {},
   "source": [
    "### 2. dereceden polinomda böyle gözüktü, diğer poly regression modellerini de yazdıralım"
   ]
  },
  {
   "cell_type": "code",
   "execution_count": 22,
   "id": "c16b13f8",
   "metadata": {},
   "outputs": [
    {
     "data": {
      "text/plain": [
       "[<matplotlib.lines.Line2D at 0x1d8e0840460>]"
      ]
     },
     "execution_count": 22,
     "metadata": {},
     "output_type": "execute_result"
    },
    {
     "data": {
      "image/png": "[encoded data removed]",
      "text/plain": [
       "<Figure size 432x288 with 1 Axes>"
      ]
     },
     "metadata": {
      "needs_background": "light"
     },
     "output_type": "display_data"
    }
   ],
   "source": [
    "x_poly_3 = poly_reg_3.fit_transform(x)\n",
    "reg_3 = LinearRegression()\n",
    "reg_3.fit(x_poly_3, y)\n",
    "\n",
    "plt.scatter(x,y)\n",
    "plt.plot(x,reg_3.predict(poly_reg_3.fit_transform(x)))"
   ]
  },
  {
   "cell_type": "code",
   "execution_count": 23,
   "id": "6f8f4c31",
   "metadata": {},
   "outputs": [
    {
     "data": {
      "text/plain": [
       "[<matplotlib.lines.Line2D at 0x1d8e28ad8a0>]"
      ]
     },
     "execution_count": 23,
     "metadata": {},
     "output_type": "execute_result"
    },
    {
     "data": {
      "image/png": "[encoded data removed]",
      "text/plain": [
       "<Figure size 432x288 with 1 Axes>"
      ]
     },
     "metadata": {
      "needs_background": "light"
     },
     "output_type": "display_data"
    }
   ],
   "source": [
    "x_poly_5 = poly_reg_5.fit_transform(x)\n",
    "reg_5 = LinearRegression()\n",
    "reg_5.fit(x_poly_5, y)\n",
    "\n",
    "plt.scatter(x,y)\n",
    "plt.plot(x,reg_5.predict(poly_reg_5.fit_transform(x)))"
   ]
  },
  {
   "cell_type": "code",
   "execution_count": 24,
   "id": "8d7dc563",
   "metadata": {},
   "outputs": [
    {
     "data": {
      "text/plain": [
       "[<matplotlib.lines.Line2D at 0x1d8e28d4310>]"
      ]
     },
     "execution_count": 24,
     "metadata": {},
     "output_type": "execute_result"
    },
    {
     "data": {
      "image/png": "[encoded data removed]",
      "text/plain": [
       "<Figure size 432x288 with 1 Axes>"
      ]
     },
     "metadata": {
      "needs_background": "light"
     },
     "output_type": "display_data"
    }
   ],
   "source": [
    "x_poly_13 = poly_reg_13.fit_transform(x)\n",
    "reg_13 = LinearRegression()\n",
    "reg_13.fit(x_poly_13, y)\n",
    "\n",
    "plt.scatter(x,y)\n",
    "plt.plot(x,reg_13.predict(poly_reg_13.fit_transform(x)))"
   ]
  },
  {
   "cell_type": "markdown",
   "id": "2328fc4d",
   "metadata": {},
   "source": [
    "###  unnormalize edilmiş veri ile ufak bir predict deneyelim"
   ]
  },
  {
   "cell_type": "code",
   "execution_count": 29,
   "id": "a02c489f",
   "metadata": {},
   "outputs": [
    {
     "name": "stderr",
     "output_type": "stream",
     "text": [
      "C:\\Users\\Asus\\anaconda3\\envs\\notebook\\lib\\site-packages\\sklearn\\base.py:464: UserWarning: X does not have valid feature names, but MinMaxScaler was fitted with feature names\n",
      "  warnings.warn(\n",
      "C:\\Users\\Asus\\AppData\\Local\\Temp\\ipykernel_10232\\1760866267.py:9: SettingWithCopyWarning: \n",
      "A value is trying to be set on a copy of a slice from a DataFrame.\n",
      "Try using .loc[row_indexer,col_indexer] = value instead\n",
      "\n",
      "See the caveats in the documentation: https://pandas.pydata.org/pandas-docs/stable/user_guide/indexing.html#returning-a-view-versus-a-copy\n",
      "  df_continuous[column_name] = scaler.transform(df_continuous[[column_name]].values.reshape(-1, 1))\n",
      "C:\\Users\\Asus\\anaconda3\\envs\\notebook\\lib\\site-packages\\sklearn\\base.py:464: UserWarning: X does not have valid feature names, but MinMaxScaler was fitted with feature names\n",
      "  warnings.warn(\n",
      "C:\\Users\\Asus\\AppData\\Local\\Temp\\ipykernel_10232\\1760866267.py:9: SettingWithCopyWarning: \n",
      "A value is trying to be set on a copy of a slice from a DataFrame.\n",
      "Try using .loc[row_indexer,col_indexer] = value instead\n",
      "\n",
      "See the caveats in the documentation: https://pandas.pydata.org/pandas-docs/stable/user_guide/indexing.html#returning-a-view-versus-a-copy\n",
      "  df_continuous[column_name] = scaler.transform(df_continuous[[column_name]].values.reshape(-1, 1))\n"
     ]
    }
   ],
   "source": [
    "df_continuous = data[columns_to_normalize]\n",
    "min_max_columns_names = list(df_continuous.columns)\n",
    "scaling_params = {}\n",
    "\n",
    "for column_name in min_max_columns_names:\n",
    "    scaler = MinMaxScaler()\n",
    "    scaler.fit(df_continuous[[column_name]])\n",
    "    scaling_params[column_name] = {\"min\": scaler.data_min_[0], \"max\": scaler.data_max_[0]}\n",
    "    df_continuous[column_name] = scaler.transform(df_continuous[[column_name]].values.reshape(-1, 1))\n",
    "    \n",
    "\n",
    "predicted_education = x * (scaling_params[\"Egitim Seviyesi\"][\"max\"] - scaling_params[\"Egitim Seviyesi\"][\"min\"]) + scaling_params[\"Egitim Seviyesi\"][\"min\"]\n",
    "predicted_salary = y * (scaling_params[\"maas\"][\"max\"] - scaling_params[\"maas\"][\"min\"]) + scaling_params[\"maas\"][\"min\"]"
   ]
  },
  {
   "cell_type": "code",
   "execution_count": 30,
   "id": "2450e57e",
   "metadata": {},
   "outputs": [
    {
     "data": {
      "image/png": "[encoded data removed]",
      "text/plain": [
       "<Figure size 432x288 with 1 Axes>"
      ]
     },
     "metadata": {
      "needs_background": "light"
     },
     "output_type": "display_data"
    },
    {
     "data": {
      "text/plain": [
       "array([[73766.66666667]])"
      ]
     },
     "execution_count": 30,
     "metadata": {},
     "output_type": "execute_result"
    }
   ],
   "source": [
    "x_poly_3 = poly_reg_3.fit_transform(predicted_education)\n",
    "reg_3 = LinearRegression()\n",
    "reg_3.fit(x_poly_3, predicted_salary)\n",
    "\n",
    "plt.scatter(predicted_education,predicted_salary)\n",
    "plt.plot(predicted_education,reg_3.predict(poly_reg_3.fit_transform(predicted_education)))\n",
    "plt.show()\n",
    "\n",
    "reg_3.predict(poly_reg_3.fit_transform([[11]])) #future prediction değerimiz"
   ]
  },
  {
   "cell_type": "code",
   "execution_count": 31,
   "id": "d57532e8",
   "metadata": {},
   "outputs": [
    {
     "data": {
      "image/png": "[encoded data removed]",
      "text/plain": [
       "<Figure size 432x288 with 1 Axes>"
      ]
     },
     "metadata": {
      "needs_background": "light"
     },
     "output_type": "display_data"
    },
    {
     "data": {
      "text/plain": [
       "array([[573845.7952279]])"
      ]
     },
     "execution_count": 31,
     "metadata": {},
     "output_type": "execute_result"
    }
   ],
   "source": [
    "x_poly_13 = poly_reg_13.fit_transform(predicted_education)\n",
    "reg_13 = LinearRegression()\n",
    "reg_13.fit(x_poly_13, predicted_salary)\n",
    "\n",
    "plt.scatter(predicted_education,predicted_salary)\n",
    "plt.plot(predicted_education,reg_13.predict(poly_reg_13.fit_transform(predicted_education)))\n",
    "plt.show()\n",
    "\n",
    "reg_13.predict(poly_reg_13.fit_transform([[11]])) #future prediction değerimiz"
   ]
  },
  {
   "cell_type": "markdown",
   "id": "35c55b81",
   "metadata": {},
   "source": [
    "### Buradaki işlem bitti, yine de R^2, adjusted R^2, MAE, MAPE, MSE, RMSE üzerindeki erroları inceleyelim"
   ]
  },
  {
   "cell_type": "code",
   "execution_count": 32,
   "id": "812ba5c4",
   "metadata": {},
   "outputs": [],
   "source": [
    "from sklearn.model_selection import train_test_split\n",
    "from sklearn.preprocessing import LabelEncoder\n",
    "from sklearn import preprocessing\n",
    "\n",
    "X = normalized_data['Egitim Seviyesi']\n",
    "y = normalized_data['maas']\n",
    "\n",
    "X_train, X_test, y_train, y_test = train_test_split(X, y, train_size = 0.7, test_size = 0.3, random_state = 42)"
   ]
  },
  {
   "cell_type": "code",
   "execution_count": 33,
   "id": "90d7c1ab",
   "metadata": {
    "scrolled": true
   },
   "outputs": [],
   "source": [
    "x_train, x_test, y_train, y_test = train_test_split(normalized_data, y, train_size = 0.7, test_size = 0.3, random_state = 42)\n",
    "r2 = reg_13\n",
    "r2.fit(x_train, y_train)\n",
    "\n",
    "y_pred = r2.predict(x_test)\n"
   ]
  },
  {
   "cell_type": "code",
   "execution_count": 34,
   "id": "d24ad68a",
   "metadata": {},
   "outputs": [],
   "source": [
    "# Automating backward elimination technique\n",
    "\n",
    "def DoBackwardElimination(the_regressor, X, y, minP2eliminate):\n",
    "    \n",
    "    assert np.shape(X)[0] == np.shape(y)[0], 'Length of X and y do not match'\n",
    "    assert minP2eliminate > 0, 'Minimum P value to eliminate cannot be zero or negative'\n",
    "    \n",
    "    original_list = list(range(0, np.shape(the_regressor.pvalues)[0]))\n",
    "    \n",
    "    max_p = 10        # Initializing with random value of maximum P value\n",
    "    i = 0\n",
    "    r2adjusted = []   # Will store R Square adjusted value for each loop\n",
    "    r2 = []           # Will store R Square value  for each loop\n",
    "    list_of_originallist = [] # Will store modified index of X at each loop\n",
    "    classifiers_list = [] # fitted classifiers at each loop\n",
    "    \n",
    "    while max_p >= minP2eliminate:\n",
    "        \n",
    "        p_values = list(the_regressor.pvalues)\n",
    "        r2adjusted.append(the_regressor.rsquared_adj)\n",
    "        r2.append(the_regressor.rsquared)\n",
    "        list_of_originallist.append(original_list)\n",
    "        \n",
    "        max_p = max(p_values)\n",
    "        max_p_idx = p_values.index(max_p)\n",
    "        \n",
    "        if max_p_idx == 0:\n",
    "            \n",
    "            temp_p = set(p_values)\n",
    "            \n",
    "            # removing the largest element from temp list\n",
    "            temp_p.remove(max(temp_p))\n",
    "            \n",
    "            max_p = max(temp_p)\n",
    "            max_p_idx = p_values.index(max_p)\n",
    "            \n",
    "            print('Index value 0 found!! Next index value is {}'.format(max_p_idx))\n",
    "            \n",
    "            if max_p < minP2eliminate:\n",
    "                \n",
    "                print('Max P value found less than 0.1 with 0 index ...Loop Ends!!')\n",
    "                \n",
    "                break\n",
    "                \n",
    "        if max_p < minP2eliminate:\n",
    "            \n",
    "            print('Max P value found less than 0.1 without 0 index...Loop Ends!!')\n",
    "            \n",
    "            break\n",
    "        \n",
    "        val_at_idx = original_list[max_p_idx]\n",
    "        \n",
    "        idx_in_org_lst = original_list.index(val_at_idx)\n",
    "        \n",
    "        original_list.remove(val_at_idx)\n",
    "        \n",
    "        print('Popped column index out of original array is {} with P-Value {}'.format(val_at_idx, np.round(np.array(p_values)[max_p_idx], decimals= 4)))\n",
    "        \n",
    "        X_new = X[:, original_list]\n",
    "        \n",
    "        the_regressor = sm.OLS(endog = y, exog = X_new).fit()\n",
    "        classifiers_list.append(the_regressor)\n",
    "        \n",
    "        print('==================================================================================================')\n",
    "        \n",
    "    return classifiers_list, r2, r2adjusted, list_of_originallist"
   ]
  },
  {
   "cell_type": "code",
   "execution_count": 35,
   "id": "1472ee65",
   "metadata": {},
   "outputs": [
    {
     "name": "stdout",
     "output_type": "stream",
     "text": [
      "                                 OLS Regression Results                                \n",
      "=======================================================================================\n",
      "Dep. Variable:                   maas   R-squared (uncentered):                   0.698\n",
      "Model:                            OLS   Adj. R-squared (uncentered):              0.648\n",
      "Method:                 Least Squares   F-statistic:                              13.86\n",
      "Date:                Thu, 27 Jul 2023   Prob (F-statistic):                     0.00982\n",
      "Time:                        20:17:18   Log-Likelihood:                         0.72163\n",
      "No. Observations:                   7   AIC:                                     0.5567\n",
      "Df Residuals:                       6   BIC:                                     0.5027\n",
      "Df Model:                           1                                                  \n",
      "Covariance Type:            nonrobust                                                  \n",
      "===================================================================================\n",
      "                      coef    std err          t      P>|t|      [0.025      0.975]\n",
      "-----------------------------------------------------------------------------------\n",
      "Egitim Seviyesi     0.5657      0.152      3.723      0.010       0.194       0.937\n",
      "==============================================================================\n",
      "Omnibus:                          nan   Durbin-Watson:                   2.149\n",
      "Prob(Omnibus):                    nan   Jarque-Bera (JB):                3.804\n",
      "Skew:                           1.683   Prob(JB):                        0.149\n",
      "Kurtosis:                       4.306   Cond. No.                         1.00\n",
      "==============================================================================\n",
      "\n",
      "Notes:\n",
      "[1] R² is computed without centering (uncentered) since the model does not contain a constant.\n",
      "[2] Standard Errors assume that the covariance matrix of the errors is correctly specified.\n"
     ]
    },
    {
     "name": "stderr",
     "output_type": "stream",
     "text": [
      "C:\\Users\\Asus\\anaconda3\\envs\\notebook\\lib\\site-packages\\statsmodels\\stats\\stattools.py:74: ValueWarning: omni_normtest is not valid with less than 8 observations; 7 samples were given.\n",
      "  warn(\"omni_normtest is not valid with less than 8 observations; %i \"\n"
     ]
    }
   ],
   "source": [
    "regressor_SLR_OLS = sm.OLS(endog = y_train, exog = X_train).fit()\n",
    "\n",
    "# Looking at the summary of regressor\n",
    "print(regressor_SLR_OLS.summary())\n"
   ]
  },
  {
   "cell_type": "code",
   "execution_count": 49,
   "id": "70fc78a5",
   "metadata": {},
   "outputs": [
    {
     "name": "stdout",
     "output_type": "stream",
     "text": [
      "Mean Absolute Error: 9.627715291671279e-17\n",
      "Mean Square Error: 1.187080023143992e-32\n",
      "Root Mean Square Error: 1.0895320202472215e-16\n"
     ]
    }
   ],
   "source": [
    "meanAbErr = metrics.mean_absolute_error(y_test, y_pred)\n",
    "meanSqErr = metrics.mean_squared_error(y_test, y_pred)\n",
    "rootMeanSqErr = np.sqrt(metrics.mean_squared_error(y_test, y_pred))\n",
    "#mape = mean_absolute_percentage_error(y_test, y_pred)\n",
    "\n",
    "print('Mean Absolute Error:', meanAbErr)\n",
    "print('Mean Square Error:', meanSqErr)\n",
    "print('Root Mean Square Error:', rootMeanSqErr)\n",
    "\n"
   ]
  },
  {
   "cell_type": "code",
   "execution_count": null,
   "id": "23d27c20",
   "metadata": {},
   "outputs": [],
   "source": []
  }
 ],
 "metadata": {
  "kernelspec": {
   "display_name": "Python 3 (ipykernel)",
   "language": "python",
   "name": "python3"
  },
  "language_info": {
   "codemirror_mode": {
    "name": "ipython",
    "version": 3
   },
   "file_extension": ".py",
   "mimetype": "text/x-python",
   "name": "python",
   "nbconvert_exporter": "python",
   "pygments_lexer": "ipython3",
   "version": "3.10.4"
  }
 },
 "nbformat": 4,
 "nbformat_minor": 5
}
